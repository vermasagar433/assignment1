{
 "cells": [
  {
   "cell_type": "markdown",
   "id": "f5a95954-7792-42de-9d7b-4ee56e9712c6",
   "metadata": {},
   "source": [
    "Q1. Create one variable containing following type of data:\n",
    "(i) string\n",
    "(ii) list\n",
    "(iii) float\n",
    "(iv) tuple"
   ]
  },
  {
   "cell_type": "code",
   "execution_count": 2,
   "id": "4ea9dd1e-4891-4d77-ad6c-a36299c45fb7",
   "metadata": {},
   "outputs": [
    {
     "name": "stdout",
     "output_type": "stream",
     "text": [
      "<class 'str'> <class 'list'> <class 'float'> <class 'tuple'>\n"
     ]
    }
   ],
   "source": [
    "a='pw'\n",
    "b=[1,2]\n",
    "c=20.56\n",
    "d=(1,2,3)\n",
    "print(type(a),type(b),type(c),type(d))"
   ]
  },
  {
   "cell_type": "markdown",
   "id": "308766a3-7fb7-4adb-b4aa-369685e62280",
   "metadata": {},
   "source": [
    "Q2. Given are some following variables containing data:\n",
    "(i) var1 = ‘ ‘\n",
    "(ii) var2 = ‘[ DS , ML , Python]’\n",
    "(iii) var3 = [ ‘DS’ , ’ML’ , ‘Python’ ]\n",
    "(iv) var4 = 1.\n",
    "What will be the data type of the above given variable."
   ]
  },
  {
   "cell_type": "markdown",
   "id": "b34d3684-731b-499c-8c90-a7e9b8adfc96",
   "metadata": {},
   "source": [
    "type(var1)==string\n",
    "\n",
    "type(var2)==invalid datatype\n",
    "\n",
    "type(var3)==list\n",
    "\n",
    "type(varr)==int"
   ]
  },
  {
   "cell_type": "markdown",
   "id": "20c18b74-26e0-4d73-9f01-6a53eb234b0f",
   "metadata": {},
   "source": [
    "Q3. Explain the use of the following operators using an example:\n",
    "(i) /\n",
    "(ii) %\n",
    "(iii) //\n",
    "(iv) **"
   ]
  },
  {
   "cell_type": "markdown",
   "id": "1babd3a3-b544-405d-bc18-baa4c751a8ec",
   "metadata": {},
   "source": [
    "/ -- Returns the Division\n",
    "\n",
    "% -- Returns the remainder\n",
    "\n",
    "// -- Returns the quotient\n",
    "\n",
    "** -- Returns the exponential value"
   ]
  },
  {
   "cell_type": "markdown",
   "id": "bb67fc57-01ef-4e5f-a8c0-98f7ce2a29f2",
   "metadata": {},
   "source": [
    "Q4. Create a list of length 10 of your choice containing multiple types of data. Using for loop print the\n",
    "element and its data type."
   ]
  },
  {
   "cell_type": "code",
   "execution_count": 4,
   "id": "c27bf67f-ac6e-4dae-af33-fdcf467ef68a",
   "metadata": {},
   "outputs": [
    {
     "name": "stdout",
     "output_type": "stream",
     "text": [
      "1\n",
      "2\n",
      "s\n",
      "645\n",
      "assign\n",
      "555\n",
      "dds\n",
      "122\n",
      "6.54\n",
      "20.36\n"
     ]
    }
   ],
   "source": [
    "lst=[1,2,\"s\",645, \"assign\",555,'dds',122,6.54,20.36]\n",
    "for elements in lst:\n",
    "    print(elements)"
   ]
  },
  {
   "cell_type": "markdown",
   "id": "9707555e-af23-4bf6-9e2e-430d2d745552",
   "metadata": {},
   "source": [
    "Q5. Using a while loop, verify if the number A is purely divisible by number B and if so then how many\n",
    "times it can be divisible."
   ]
  },
  {
   "cell_type": "code",
   "execution_count": 17,
   "id": "ca6d6c23-0b1c-4992-ba02-ca1c19cab4c1",
   "metadata": {},
   "outputs": [
    {
     "name": "stdout",
     "output_type": "stream",
     "text": [
      "32 is divisible by 2, 5 times\n"
     ]
    }
   ],
   "source": [
    "numA=32\n",
    "a=numA\n",
    "numB=2\n",
    "count=0\n",
    "while(numA%numB==0):\n",
    "    numA=numA/numB\n",
    "    count+=1\n",
    "    \n",
    "else:\n",
    "    print(str(a)+' is divisible by '+ str(numB)+\", \"+str(count)+' times')\n",
    "    "
   ]
  },
  {
   "cell_type": "markdown",
   "id": "8e1e44e8-0e5f-4d86-b113-aab0b94ba241",
   "metadata": {},
   "source": [
    "Q6. Create a list containing 25 int type data. Using for loop and if-else condition print if the element is\n",
    "divisible by 3 or not."
   ]
  },
  {
   "cell_type": "code",
   "execution_count": 19,
   "id": "e746dc5e-f329-4b00-949c-14463e0eacaa",
   "metadata": {},
   "outputs": [
    {
     "name": "stdout",
     "output_type": "stream",
     "text": [
      "3\n",
      "6\n",
      "9\n",
      "12\n",
      "15\n",
      "18\n",
      "21\n",
      "24\n"
     ]
    }
   ],
   "source": [
    "lst=range(1,26)\n",
    "for num in lst:\n",
    "    if num%3==0:\n",
    "        print(num)"
   ]
  },
  {
   "cell_type": "markdown",
   "id": "33150a31-276f-4ce8-899b-bde00864e746",
   "metadata": {},
   "source": [
    "Q7. What do you understand about mutable and immutable data types? Give examples for both showing\n",
    "this property."
   ]
  },
  {
   "cell_type": "markdown",
   "id": "05703fca-b4db-4128-854a-e8242e09248d",
   "metadata": {},
   "source": [
    "Mutable datatypes are those datatypes in which we can modify the object it contains. Mutability is not similar to replacing the entire variable, it is modifying the values it contains.\n",
    "\n",
    "For ex: List\n",
    "\n",
    "lst=[1,2,'sun']\n",
    "\n",
    "lst[0]==14\n",
    "\n",
    "If we assign the value at index 0 to be 14, the same list located at a definite memory will be modified such that if we fetch list again, it will have 14 at index 0. It's memory address will also be same because it's the same list.\n"
   ]
  },
  {
   "cell_type": "markdown",
   "id": "4ffc1056-22fd-4d9f-af47-c5a003dee42f",
   "metadata": {},
   "source": [
    "Immutable datatypes are those where it is not possible to modify the values of that variable.\n",
    "\n",
    "for ex:\n",
    "    \n",
    "strings--- st=='sum'\n",
    "\n",
    "now if we  try to perform st[2]='n' ,it will show error, because string is immutable datatype."
   ]
  }
 ],
 "metadata": {
  "kernelspec": {
   "display_name": "Python 3 (ipykernel)",
   "language": "python",
   "name": "python3"
  },
  "language_info": {
   "codemirror_mode": {
    "name": "ipython",
    "version": 3
   },
   "file_extension": ".py",
   "mimetype": "text/x-python",
   "name": "python",
   "nbconvert_exporter": "python",
   "pygments_lexer": "ipython3",
   "version": "3.10.8"
  }
 },
 "nbformat": 4,
 "nbformat_minor": 5
}
