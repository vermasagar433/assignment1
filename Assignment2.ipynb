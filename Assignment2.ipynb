{
 "cells": [
  {
   "cell_type": "markdown",
   "id": "6c867901-036a-4152-bcf5-f6dde5eaba20",
   "metadata": {},
   "source": [
    "Q1. How do you comment code in Python? What are the different types of comments?"
   ]
  },
  {
   "cell_type": "markdown",
   "id": "d2eefeb0-e606-484c-99af-b5851f7fe9c6",
   "metadata": {},
   "source": [
    "We can use # for single line comments. For multi line comments, we can use either ''' or \"\"\""
   ]
  },
  {
   "cell_type": "markdown",
   "id": "2f60b3ac-e4f7-45c5-a691-30ff88ca3883",
   "metadata": {},
   "source": [
    "Q2. What are variables in Python? How do you declare and assign values to variables?"
   ]
  },
  {
   "cell_type": "markdown",
   "id": "700aea45-d5c6-43eb-8c0c-e24e84d3dccb",
   "metadata": {},
   "source": [
    "Variables are containers used to store different datatype values in python environment.\n",
    "\n",
    "We declare variables directly using characters or combinations. Variable name should not start with special character (except _ ) or numerical values. We assign values to variable using = operator."
   ]
  },
  {
   "cell_type": "markdown",
   "id": "70d6ee30-b7ea-4eb1-8ef6-4d5b349c154e",
   "metadata": {},
   "source": [
    "Q3. How do you convert one data type to another in Python?"
   ]
  },
  {
   "cell_type": "markdown",
   "id": "76bf1757-b017-4b4e-8c10-29d983b3a26e",
   "metadata": {},
   "source": [
    "We use typecasting to convert the type of a variable.\n",
    "\n",
    "For ex: a= 123 \n",
    "\n",
    "a is in int type. so to typecast it into string. We can use str(a) function.\n",
    "\n",
    "This str function will change its data type to string."
   ]
  },
  {
   "cell_type": "markdown",
   "id": "6d423e93-4d29-460d-b509-7e221d0675fe",
   "metadata": {},
   "source": [
    "Q4. How do you write and execute a Python script from the command line?"
   ]
  },
  {
   "cell_type": "markdown",
   "id": "75d904a8-852f-4b5c-97ac-b037e6bee9f9",
   "metadata": {},
   "source": [
    "To execute a python script from cmd. We change directory and navigate to the location of the .py script file. Then we run following command.\n",
    "\n",
    "python script.py"
   ]
  },
  {
   "cell_type": "markdown",
   "id": "799a2d1f-aabc-4b61-b50f-8f082a2b6d5f",
   "metadata": {},
   "source": [
    "Q5. Given a list my_list = [1, 2, 3, 4, 5], write the code to slice the list and obtain the sub-list [2, 3]."
   ]
  },
  {
   "cell_type": "code",
   "execution_count": 2,
   "id": "ed959602-8bbd-4f33-a598-ef37f35f2492",
   "metadata": {},
   "outputs": [
    {
     "data": {
      "text/plain": [
       "[2, 3]"
      ]
     },
     "execution_count": 2,
     "metadata": {},
     "output_type": "execute_result"
    }
   ],
   "source": [
    "my_list = [1, 2, 3, 4, 5]\n",
    "my_list[1:3]"
   ]
  },
  {
   "cell_type": "markdown",
   "id": "df35f2f5-5744-4a0f-afdc-9874384004b9",
   "metadata": {},
   "source": [
    "Q6. What is a complex number in mathematics, and how is it represented in Python?"
   ]
  },
  {
   "cell_type": "markdown",
   "id": "603e3cec-2a9d-4e8d-b232-254046b22509",
   "metadata": {},
   "source": [
    "Complex no. are those numbers which contains real part and imaginary part. In python, imaginary part iota is defined with j.\n"
   ]
  },
  {
   "cell_type": "code",
   "execution_count": 4,
   "id": "3288ea68-4411-43c1-94f0-7af8b57bf3d4",
   "metadata": {},
   "outputs": [
    {
     "data": {
      "text/plain": [
       "(1+2j)"
      ]
     },
     "execution_count": 4,
     "metadata": {},
     "output_type": "execute_result"
    }
   ],
   "source": [
    "comp=1+2j\n",
    "comp"
   ]
  },
  {
   "cell_type": "markdown",
   "id": "622626d0-fdaa-4083-9283-8fe8678106be",
   "metadata": {},
   "source": [
    "Q7. What is the correct way to declare a variable named age and assign the value 25 to it?"
   ]
  },
  {
   "cell_type": "code",
   "execution_count": 6,
   "id": "ec3ac430-98fb-4896-899a-61f3dc3d1c34",
   "metadata": {},
   "outputs": [
    {
     "data": {
      "text/plain": [
       "25"
      ]
     },
     "execution_count": 6,
     "metadata": {},
     "output_type": "execute_result"
    }
   ],
   "source": [
    "age=25\n",
    "age"
   ]
  },
  {
   "cell_type": "markdown",
   "id": "dc19bd06-3f0c-41e6-ac3a-c0e4ed1618ba",
   "metadata": {},
   "source": [
    "Q8. Declare a variable named price and assign the value 9.99 to it. What data type does this variable\n",
    "belong to?"
   ]
  },
  {
   "cell_type": "code",
   "execution_count": 7,
   "id": "8aa9ff2a-98ce-4809-b726-bdc74b167c07",
   "metadata": {},
   "outputs": [
    {
     "data": {
      "text/plain": [
       "float"
      ]
     },
     "execution_count": 7,
     "metadata": {},
     "output_type": "execute_result"
    }
   ],
   "source": [
    "price=9.99\n",
    "#type of this variable is float\n",
    "\n",
    "type(price)"
   ]
  },
  {
   "cell_type": "markdown",
   "id": "c819a65e-ffc6-41b8-bfd2-27238b80f234",
   "metadata": {},
   "source": [
    "Q9. Create a variable named name and assign your full name to it as a string. How would you print the\n",
    "value of this variable?"
   ]
  },
  {
   "cell_type": "code",
   "execution_count": 8,
   "id": "11185d92-340e-4744-99ff-3cdc70edcc75",
   "metadata": {},
   "outputs": [
    {
     "name": "stdout",
     "output_type": "stream",
     "text": [
      "Sagar Verma\n"
     ]
    }
   ],
   "source": [
    "name= \"Sagar Verma\"\n",
    "print(name)"
   ]
  },
  {
   "cell_type": "markdown",
   "id": "dbca8551-0254-4186-80ad-cc5f38e9af3d",
   "metadata": {},
   "source": [
    "Q10. Given the string \"Hello, World!\", extract the substring \"World\"."
   ]
  },
  {
   "cell_type": "code",
   "execution_count": 14,
   "id": "e2b7ef0d-d806-44cf-983d-a5b4565cb44c",
   "metadata": {},
   "outputs": [
    {
     "data": {
      "text/plain": [
       "'World'"
      ]
     },
     "execution_count": 14,
     "metadata": {},
     "output_type": "execute_result"
    }
   ],
   "source": [
    "string=\"Hello, World!\"\n",
    "string[7:12]"
   ]
  },
  {
   "cell_type": "markdown",
   "id": "d83b26f6-81eb-4dd7-926b-6b6610fbc1b1",
   "metadata": {},
   "source": [
    "Q11. Create a variable named \"is_student\" and assign it a boolean value indicating whether you are\n",
    "currently a student or not."
   ]
  },
  {
   "cell_type": "code",
   "execution_count": null,
   "id": "7bbbf539-c47c-4599-9fb1-61fce9b4de86",
   "metadata": {},
   "outputs": [],
   "source": [
    "is_student=Fa"
   ]
  }
 ],
 "metadata": {
  "kernelspec": {
   "display_name": "Python 3 (ipykernel)",
   "language": "python",
   "name": "python3"
  },
  "language_info": {
   "codemirror_mode": {
    "name": "ipython",
    "version": 3
   },
   "file_extension": ".py",
   "mimetype": "text/x-python",
   "name": "python",
   "nbconvert_exporter": "python",
   "pygments_lexer": "ipython3",
   "version": "3.10.8"
  }
 },
 "nbformat": 4,
 "nbformat_minor": 5
}
