{
 "cells": [
  {
   "cell_type": "markdown",
   "id": "afe40268-ebc4-4ce3-9ef1-a65192a10282",
   "metadata": {},
   "source": [
    "Q1. What is multiprocessing in python? Why is it useful?"
   ]
  },
  {
   "cell_type": "markdown",
   "id": "e91bf9ac-94e2-403b-8bb7-d0b52204665d",
   "metadata": {},
   "source": [
    "Multiprocessing is the ability of system to run multiple processor. In case of single processor, ability to run multiple cores. In python, we use this ability by executing the process in multiple process or multiple cores by feeding executable part of process (thread) to seperate cores or processors. It is useful because it uses the resources well resulting in better performance and faster execution."
   ]
  },
  {
   "cell_type": "markdown",
   "id": "7bbd5d37-885d-47f7-9924-acfd03ad2e8d",
   "metadata": {},
   "source": [
    "Q2. What are the differences between multiprocessing and multithreading?"
   ]
  },
  {
   "cell_type": "markdown",
   "id": "83fdaa26-f5c5-4250-919c-e5572c4bc31e",
   "metadata": {},
   "source": [
    "In multiprocessing, multiple processors are used to increase the computing capacity, whereas in multithreading, multiple threads are used.\n",
    "\n",
    "In multiprocessing, every process has a seperate address space whereas in multithreading, all threads share same addresss space.\n"
   ]
  },
  {
   "cell_type": "markdown",
   "id": "1c92ad29-157a-4689-b724-bdfd1add9da5",
   "metadata": {},
   "source": [
    "Q3. Write a python code to create a process using the multiprocessing module."
   ]
  },
  {
   "cell_type": "code",
   "execution_count": 19,
   "id": "98c9a8d7-ac7f-4c4f-b7c3-dfc0333997fc",
   "metadata": {},
   "outputs": [
    {
     "name": "stdout",
     "output_type": "stream",
     "text": [
      "result for processor p1 is in list [1, 4, 9] with processor 3098\n",
      "main program id: 2226\n"
     ]
    }
   ],
   "source": [
    "import multiprocessing\n",
    "import os\n",
    "def sqr(lst):\n",
    "    global result\n",
    "    for num in (lst):\n",
    "        result.append(num*num)\n",
    "    print(\"result for processor p1 is in list {} with processor {}\".format(result[:],os.getpid()))\n",
    "\n",
    "if __name__ == \"__main__\" :\n",
    "              result=[]\n",
    "              my_list=[1,2,3]\n",
    "              p1=multiprocessing.Process(target=sqr,args=(my_list,))\n",
    "              p1.start()\n",
    "              p1.join()\n",
    "              print(\"main program id: {}\".format(os.getpid()))\n",
    "            "
   ]
  },
  {
   "cell_type": "markdown",
   "id": "b9185ec2-33a8-4baa-b84d-8618fb74035c",
   "metadata": {},
   "source": [
    "Q4. What is a multiprocessing pool in python? Why is it used?"
   ]
  },
  {
   "cell_type": "markdown",
   "id": "246d6639-266a-416d-9245-285f93aeaf4c",
   "metadata": {},
   "source": [
    "Multiprocessing pool is a technique which offloads a process to multiple cores/process. It distributes the work to muliple cores such that the process is completed faster and efficiently by mapping the target function to the data object thus distributing it among cores."
   ]
  },
  {
   "cell_type": "markdown",
   "id": "0524fe49-05c3-4ef1-90d0-bc50b63a73e4",
   "metadata": {},
   "source": [
    "Q5. How can we create a pool of worker processes in python using the multiprocessing module?"
   ]
  },
  {
   "cell_type": "code",
   "execution_count": 26,
   "id": "cec19dee-87bc-4c59-b8f3-44e8f43dd5f4",
   "metadata": {},
   "outputs": [
    {
     "name": "stdout",
     "output_type": "stream",
     "text": [
      "1 squared is 1, processor id 3992 \n",
      "2 squared is 4, processor id 3993 3 squared is 9, processor id 3994 \n",
      "\n",
      "[1, 2, 3]\n"
     ]
    }
   ],
   "source": [
    "def squared(num):\n",
    "    print(\"{} squared is {}, processor id {} \".format(num,num*num,os.getpid()))\n",
    "    return num*num\n",
    "p=multiprocessing.Pool()\n",
    "if __name__ == \"__main__\":\n",
    "    lst=[1,2,3]\n",
    "    p.map(squared,lst)\n",
    "    print(lst)"
   ]
  },
  {
   "cell_type": "markdown",
   "id": "7bed4e16-308c-4b51-a820-40a84babcec6",
   "metadata": {},
   "source": [
    "Q6. Write a python program to create 4 processes, each process should print a different number using the\n",
    "multiprocessing module in python."
   ]
  },
  {
   "cell_type": "code",
   "execution_count": 51,
   "id": "d94bfaf4-2d1a-4e96-bd84-59f40b68538b",
   "metadata": {},
   "outputs": [
    {
     "name": "stdout",
     "output_type": "stream",
     "text": [
      "1 is printed with processor id 4830 \n",
      "3 is printed with processor id 4832 \n",
      "2 is printed with processor id 4831 \n",
      "4 is printed with processor id 4833 \n",
      "\n",
      "\n",
      "\n",
      "\n",
      "[1, 2, 3, 4]\n"
     ]
    }
   ],
   "source": [
    "def prnt(val):\n",
    "    print(\"{} is printed with processor id {} \\n\".format(val,os.getpid()))\n",
    "pool=multiprocessing.Pool(4)\n",
    "l=[1,2,3,4]\n",
    "pool.map(prnt,l)\n",
    "print(l)"
   ]
  }
 ],
 "metadata": {
  "kernelspec": {
   "display_name": "Python 3 (ipykernel)",
   "language": "python",
   "name": "python3"
  },
  "language_info": {
   "codemirror_mode": {
    "name": "ipython",
    "version": 3
   },
   "file_extension": ".py",
   "mimetype": "text/x-python",
   "name": "python",
   "nbconvert_exporter": "python",
   "pygments_lexer": "ipython3",
   "version": "3.10.8"
  }
 },
 "nbformat": 4,
 "nbformat_minor": 5
}
