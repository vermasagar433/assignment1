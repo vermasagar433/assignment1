{
 "cells": [
  {
   "cell_type": "markdown",
   "id": "abe93892-b213-4df8-b827-284e011872fb",
   "metadata": {},
   "source": [
    "Q1. Which keyword is used to create a function? Create a function to return a list of odd numbers in the\n",
    "range of 1 to 25."
   ]
  },
  {
   "cell_type": "markdown",
   "id": "e47b3daf-55af-4e06-a319-93b16bf28c65",
   "metadata": {},
   "source": [
    "def is used to create a function."
   ]
  },
  {
   "cell_type": "code",
   "execution_count": 1,
   "id": "fabc64db-b1dc-4574-819d-a0f0414b7902",
   "metadata": {},
   "outputs": [
    {
     "data": {
      "text/plain": [
       "[1, 3, 5, 7, 9, 11, 13, 15, 17, 19, 21, 23, 25]"
      ]
     },
     "execution_count": 1,
     "metadata": {},
     "output_type": "execute_result"
    }
   ],
   "source": [
    "def oddnum(n):\n",
    "    odd_list=[]\n",
    "    for i in range(1,n+1):\n",
    "        if i%2==1:\n",
    "            odd_list.append(i)\n",
    "    return odd_list\n",
    "\n",
    "oddnum(25)"
   ]
  },
  {
   "cell_type": "markdown",
   "id": "def2cd82-71df-4d2b-849b-e3f6ea223ee2",
   "metadata": {},
   "source": [
    "Q2. Why *args and **kwargs is used in some functions? Create a function each for *args and **kwargs\n",
    "to demonstrate their use."
   ]
  },
  {
   "cell_type": "markdown",
   "id": "1c37350c-8f3f-4402-a8cf-c230b7263cad",
   "metadata": {},
   "source": [
    "*args and *kwargs are used to let function know that no. of arguments or key values pair arguments are unknown and can take any no. of values."
   ]
  },
  {
   "cell_type": "markdown",
   "id": "0c4d1a5b-8d57-4b55-a794-1da9f87de467",
   "metadata": {},
   "source": [
    "Q3. What is an iterator in python? Name the method used to initialise the iterator object and the method\n",
    "used for iteration. Use these methods to print the first five elements of the given list [2, 4, 6, 8, 10, 12, 14,\n",
    "16, 18, 20]."
   ]
  },
  {
   "cell_type": "markdown",
   "id": "ac97d3b5-6515-461e-976b-90fa2132811c",
   "metadata": {},
   "source": [
    "Iterator are the the container variables whose elements can be accessed sequentially. For ex: set,dict,list. \n",
    "\n",
    "iter() is used to convert iterables into iterator. For ex: to convert string into str_iterator. next() function is used for iteration in that iterator object."
   ]
  },
  {
   "cell_type": "code",
   "execution_count": 2,
   "id": "52411344-2bc5-4ef3-b57b-4119bbce4bcd",
   "metadata": {},
   "outputs": [
    {
     "name": "stdout",
     "output_type": "stream",
     "text": [
      "2\n",
      "4\n",
      "6\n",
      "8\n",
      "10\n"
     ]
    }
   ],
   "source": [
    "l=[2, 4, 6, 8, 10, 12, 14, 16, 18, 20]\n",
    "l1=iter(l)\n",
    "count=1\n",
    "while count!=6:\n",
    "    print(next(l1))\n",
    "    count+=1"
   ]
  },
  {
   "cell_type": "markdown",
   "id": "f537bef1-a081-49f1-8aaf-9c70aa127be2",
   "metadata": {},
   "source": [
    "Q4. What is a generator function in python? Why yield keyword is used? Give an example of a generator\n",
    "function."
   ]
  },
  {
   "cell_type": "markdown",
   "id": "ca92cfb5-5a67-4ed7-99dc-cd38d3dabdf3",
   "metadata": {},
   "source": [
    "Generator funnction are those functions that generate result sequentially. yield keyword is used to return the output of a generator function. Ex"
   ]
  },
  {
   "cell_type": "code",
   "execution_count": 3,
   "id": "aa619aa1-54f9-436b-8b58-83f2d3691dfa",
   "metadata": {},
   "outputs": [],
   "source": [
    "def fib(n):\n",
    "    a,b=0,1\n",
    "    for i in range(n):\n",
    "        yield a\n",
    "        a,b=b,a+b\n",
    "\n",
    "gen = fib(10)"
   ]
  },
  {
   "cell_type": "code",
   "execution_count": 4,
   "id": "f8f1d377-0c43-454a-a1b4-8672ef5e2e65",
   "metadata": {},
   "outputs": [
    {
     "name": "stdout",
     "output_type": "stream",
     "text": [
      "0\n",
      "1\n",
      "1\n",
      "2\n",
      "3\n",
      "5\n",
      "8\n",
      "13\n",
      "21\n",
      "34\n"
     ]
    }
   ],
   "source": [
    "for i in  gen:\n",
    "    print(i)"
   ]
  },
  {
   "cell_type": "markdown",
   "id": "77dde8b4-9049-487a-befe-5868586d4fc9",
   "metadata": {},
   "source": [
    "Q5. Create a generator function for prime numbers less than 1000. Use the next() method to print the\n",
    "first 20 prime numbers."
   ]
  },
  {
   "cell_type": "code",
   "execution_count": 5,
   "id": "93809197-a32a-4263-ba9f-9218e2e15048",
   "metadata": {},
   "outputs": [],
   "source": [
    "def prime(x):\n",
    "    if x==2:\n",
    "        return True\n",
    "    elif x>2:\n",
    "        for i in range(2,int(x/2)+1):\n",
    "            if x%i==0:\n",
    "                return False\n",
    "        return True\n",
    "\n",
    "    "
   ]
  },
  {
   "cell_type": "code",
   "execution_count": 6,
   "id": "44588916-8855-4113-80e7-9e243b789ee0",
   "metadata": {},
   "outputs": [],
   "source": [
    "def prime_no(n):\n",
    "    for i in range(2,n+1):\n",
    "        if prime(i)==True:\n",
    "            yield i"
   ]
  },
  {
   "cell_type": "code",
   "execution_count": 7,
   "id": "e8335d41-1fb4-4366-91bc-4626921ee611",
   "metadata": {},
   "outputs": [],
   "source": [
    "p= prime_no(1000)"
   ]
  },
  {
   "cell_type": "code",
   "execution_count": 8,
   "id": "299e2647-8d80-46fb-9051-797461b24b94",
   "metadata": {},
   "outputs": [
    {
     "name": "stdout",
     "output_type": "stream",
     "text": [
      "2\n",
      "3\n",
      "5\n",
      "7\n",
      "11\n",
      "13\n",
      "17\n",
      "19\n",
      "23\n",
      "29\n",
      "31\n",
      "37\n",
      "41\n",
      "43\n",
      "47\n",
      "53\n",
      "59\n",
      "61\n",
      "67\n",
      "71\n"
     ]
    }
   ],
   "source": [
    "count=1\n",
    "while count<21:\n",
    "    print(next(p))\n",
    "    count+=1\n"
   ]
  },
  {
   "cell_type": "markdown",
   "id": "9d3d8fe4-c6f0-4e1c-8718-fb6e928c3104",
   "metadata": {},
   "source": [
    "Q6. Write a python program to print the first 10 Fibonacci numbers using a while loop."
   ]
  },
  {
   "cell_type": "code",
   "execution_count": 9,
   "id": "24defb08-f020-49a7-9aa5-954843fa38a9",
   "metadata": {},
   "outputs": [
    {
     "name": "stdout",
     "output_type": "stream",
     "text": [
      "0\n",
      "1\n",
      "1\n",
      "2\n",
      "3\n",
      "5\n",
      "8\n",
      "13\n",
      "21\n",
      "34\n"
     ]
    }
   ],
   "source": [
    "def fibo(n):\n",
    "    a,b=0,1\n",
    "    for i in range(n):\n",
    "        yield a\n",
    "        a,b=b,a+b\n",
    "\n",
    "gen = fibo(10)\n",
    "count=1\n",
    "while count<11:\n",
    "    print(next(gen))\n",
    "    count+=1"
   ]
  },
  {
   "cell_type": "markdown",
   "id": "03684ab7-3137-4e55-9c72-54445292eb46",
   "metadata": {},
   "source": [
    "Q7. Write a List Comprehension to iterate through the given string: ‘pwskills’.\n",
    "Expected output: ['p', 'w', 's', 'k', 'i', 'l', 'l', 's']"
   ]
  },
  {
   "cell_type": "code",
   "execution_count": 10,
   "id": "e612f93a-1441-4065-ac07-1fcf2de4b014",
   "metadata": {},
   "outputs": [
    {
     "name": "stdout",
     "output_type": "stream",
     "text": [
      "['p', 'w', 's', 'k', 'i', 'l', 'l', 's']\n"
     ]
    }
   ],
   "source": [
    "st='pwskills'\n",
    "l=[]\n",
    "for i in st:\n",
    "    l.append(i)\n",
    "print(l)"
   ]
  },
  {
   "cell_type": "markdown",
   "id": "28f8930a-848c-4294-bbaa-41c8112f103f",
   "metadata": {},
   "source": [
    "Q8. Write a python program to check whether a given number is Palindrome or not using a while loop.\n",
    "  "
   ]
  },
  {
   "cell_type": "code",
   "execution_count": 11,
   "id": "9f026b6d-e81c-4ea8-b1cc-56585afdd302",
   "metadata": {},
   "outputs": [
    {
     "data": {
      "text/plain": [
       "'Yes, a palindrome no.'"
      ]
     },
     "execution_count": 11,
     "metadata": {},
     "output_type": "execute_result"
    }
   ],
   "source": [
    "def pal(num):\n",
    "    prev=num\n",
    "    rev=0\n",
    "    while num!=0:\n",
    "        rev=(rev*10+(num%10))\n",
    "        num=num//10\n",
    "    if prev==rev:\n",
    "        return \"Yes, a palindrome no.\"\n",
    "    else:\n",
    "        return \"Not a palindrome\"\n",
    "\n",
    "pal(13231)\n",
    "        "
   ]
  },
  {
   "cell_type": "markdown",
   "id": "0a5b69f5-ec2c-4eee-aa32-c651016b71f4",
   "metadata": {},
   "source": [
    "Q9. Write a code to print odd numbers from 1 to 100 using list comprehension."
   ]
  },
  {
   "cell_type": "code",
   "execution_count": 12,
   "id": "73591c71-3476-44fe-ad59-10f6b68c9609",
   "metadata": {},
   "outputs": [
    {
     "data": {
      "text/plain": [
       "[1,\n",
       " 3,\n",
       " 5,\n",
       " 7,\n",
       " 9,\n",
       " 11,\n",
       " 13,\n",
       " 15,\n",
       " 17,\n",
       " 19,\n",
       " 21,\n",
       " 23,\n",
       " 25,\n",
       " 27,\n",
       " 29,\n",
       " 31,\n",
       " 33,\n",
       " 35,\n",
       " 37,\n",
       " 39,\n",
       " 41,\n",
       " 43,\n",
       " 45,\n",
       " 47,\n",
       " 49,\n",
       " 51,\n",
       " 53,\n",
       " 55,\n",
       " 57,\n",
       " 59,\n",
       " 61,\n",
       " 63,\n",
       " 65,\n",
       " 67,\n",
       " 69,\n",
       " 71,\n",
       " 73,\n",
       " 75,\n",
       " 77,\n",
       " 79,\n",
       " 81,\n",
       " 83,\n",
       " 85,\n",
       " 87,\n",
       " 89,\n",
       " 91,\n",
       " 93,\n",
       " 95,\n",
       " 97,\n",
       " 99]"
      ]
     },
     "execution_count": 12,
     "metadata": {},
     "output_type": "execute_result"
    }
   ],
   "source": [
    "l=list(range(1,101))\n",
    "l1=filter(lambda x:x%2==1,l)\n",
    "list(l1)"
   ]
  }
 ],
 "metadata": {
  "kernelspec": {
   "display_name": "Python 3 (ipykernel)",
   "language": "python",
   "name": "python3"
  },
  "language_info": {
   "codemirror_mode": {
    "name": "ipython",
    "version": 3
   },
   "file_extension": ".py",
   "mimetype": "text/x-python",
   "name": "python",
   "nbconvert_exporter": "python",
   "pygments_lexer": "ipython3",
   "version": "3.10.8"
  }
 },
 "nbformat": 4,
 "nbformat_minor": 5
}
