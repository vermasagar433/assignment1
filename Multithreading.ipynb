{
 "cells": [
  {
   "cell_type": "markdown",
   "id": "80539b47-585b-488d-bcab-9b6cf71e7433",
   "metadata": {},
   "source": [
    "Q1. What is multithreading in python? hy is it used? Name the module used to handle threads in python"
   ]
  },
  {
   "cell_type": "markdown",
   "id": "242ef7a9-1c9e-4512-8e81-0f98406562c1",
   "metadata": {},
   "source": [
    "Multithreading is a concept in which we run multiple instances of a program inside a core using multiple threads. Threads are nothing but a part of program run independently by OS parallely. Also, it is the smallest unit of processing that can be performed in an OS (Operating System).It is used to process our program faster and efficient use of the core which was previously handling only one program.So major benefits are parallel and fast processing along with efficient use of resources.\n",
    "\n",
    "threading module is used to handle threads inside python\n",
    "\n"
   ]
  },
  {
   "cell_type": "markdown",
   "id": "9fe45578-95c6-48ea-83d8-c4d4fd31d043",
   "metadata": {},
   "source": [
    "Q2 Why threading module used? Write the use of the following functions\n",
    "\n",
    "activeCount\n",
    "\n",
    "currentThread\n",
    "\n",
    "enumerate"
   ]
  },
  {
   "cell_type": "markdown",
   "id": "a8c9a811-8489-48ad-8c1e-48be469d52cc",
   "metadata": {},
   "source": [
    "Threading module is used to handle the threads.\n"
   ]
  },
  {
   "cell_type": "code",
   "execution_count": 1,
   "id": "24354a5a-839c-49c0-b7eb-f9c49d3d770e",
   "metadata": {},
   "outputs": [
    {
     "data": {
      "text/plain": [
       "<function threading.enumerate()>"
      ]
     },
     "execution_count": 1,
     "metadata": {},
     "output_type": "execute_result"
    }
   ],
   "source": [
    "import threading\n",
    "threading.activeCount # Return the number of Thread objects currently alive.\n",
    "threading.currentThread #Return the current Thread object, corresponding to the caller's thread of control.\n",
    "threading.enumerate #Return a list of all Thread objects currently alive."
   ]
  },
  {
   "cell_type": "markdown",
   "id": "edcd3036-1fba-46a8-bbe4-a8d712465765",
   "metadata": {},
   "source": [
    "Q3. Explain the following functions\n",
    "\n",
    " run\n",
    "    \n",
    " start\n",
    "\n",
    " join\n",
    "    \n",
    "isAlive"
   ]
  },
  {
   "cell_type": "code",
   "execution_count": 2,
   "id": "5d4437a3-cf81-4182-a08f-e3cb0402976c",
   "metadata": {},
   "outputs": [
    {
     "name": "stderr",
     "output_type": "stream",
     "text": [
      "Exception in thread Thread-5:\n",
      "Traceback (most recent call last):\n",
      "  File \"/opt/conda/lib/python3.10/threading.py\", line 952, in run\n",
      "    if self._target is not None:\n",
      "AttributeError: 'Thread' object has no attribute '_target'. Did you mean: '_started'?\n",
      "\n",
      "During handling of the above exception, another exception occurred:\n",
      "\n",
      "Traceback (most recent call last):\n",
      "  File \"/opt/conda/lib/python3.10/threading.py\", line 1016, in _bootstrap_inner\n",
      "    self.run()\n",
      "  File \"/opt/conda/lib/python3.10/threading.py\", line 957, in run\n",
      "    del self._target, self._args, self._kwargs\n",
      "AttributeError: _target\n"
     ]
    },
    {
     "data": {
      "text/plain": [
       "False"
      ]
     },
     "execution_count": 2,
     "metadata": {},
     "output_type": "execute_result"
    }
   ],
   "source": [
    "t1=threading.Thread()\n",
    "t1.run() #Method representing the thread's activity.\n",
    "t1.start() #Start the thread's activity.\n",
    "t1.join() #This will put current program on wait until the thread executes.\n",
    "t1.is_alive() #Return whether the thread is alive."
   ]
  },
  {
   "cell_type": "markdown",
   "id": "8bdb10d0-d1f9-4a76-98b8-2f77daf8dd2c",
   "metadata": {},
   "source": [
    "Q4. Write a python program to create two threads. Thread one must print the list of squares and thread\n",
    "two must print the list of cubes"
   ]
  },
  {
   "cell_type": "code",
   "execution_count": 3,
   "id": "075dab7a-7315-45e2-8940-43bf2e0e74f4",
   "metadata": {},
   "outputs": [
    {
     "name": "stdout",
     "output_type": "stream",
     "text": [
      "sqaure:100\n",
      "cube:1000\n"
     ]
    }
   ],
   "source": [
    "import threading\n",
    "import os\n",
    "def sqr(val):\n",
    "    print(\"sqaure:{}\".format(val*val))\n",
    "def cube(val):\n",
    "    print(\"cube:{}\".format(val**3))\n",
    "\n",
    "if __name__ == '__main__':\n",
    "    t1=threading.Thread(target=sqr,args=(10,))\n",
    "    t2=threading.Thread(target=cube,args=(10,))\n",
    "    t1.start()\n",
    "    t2.start()\n",
    "    t1.join()\n",
    "    t2.join()"
   ]
  },
  {
   "cell_type": "markdown",
   "id": "79fd1db5-db0f-4821-8c1c-3df45a7b78c0",
   "metadata": {},
   "source": [
    "Q5. State advantages and disadvantages of multithreading?"
   ]
  },
  {
   "cell_type": "markdown",
   "id": "c65a4a88-8499-49a3-9e97-a85ec09676b4",
   "metadata": {},
   "source": [
    "Advantages:\n",
    "    \n",
    "Parallel computing, Efficient resource usage, reduced processing time\n",
    "\n",
    "Disadvantages:\n",
    "    \n",
    "Problem if not locked properly, data inconsitency if multiple threads try to access or update same global variables"
   ]
  },
  {
   "cell_type": "markdown",
   "id": "bc0d6161-4c66-408f-a1be-ee0087383e8c",
   "metadata": {},
   "source": [
    "6. Explain deadlocks and race conditions."
   ]
  },
  {
   "cell_type": "markdown",
   "id": "5f64761a-e2d5-4cb5-b0b0-5936781d4ee2",
   "metadata": {},
   "source": [
    "Race condition happens when two or more threads tries to access and update the shared variables at the same time. So when this happens the output may get affected because of the shared variable being used and updated at the same time. So to prevent that we use concept of locking. We can lock variable in one thread till it is being used and unlock it later. But the problem with locking is that if two variables say x and y are shared among two threads. If t1 locked x and t2 locked y. t1 will unlock x when it gets y because it needs both x and y. Similarly, t2 will unlock y when it gets x because it also needs both x and y. so in this case threads get deadlocked."
   ]
  }
 ],
 "metadata": {
  "kernelspec": {
   "display_name": "Python 3 (ipykernel)",
   "language": "python",
   "name": "python3"
  },
  "language_info": {
   "codemirror_mode": {
    "name": "ipython",
    "version": 3
   },
   "file_extension": ".py",
   "mimetype": "text/x-python",
   "name": "python",
   "nbconvert_exporter": "python",
   "pygments_lexer": "ipython3",
   "version": "3.10.8"
  }
 },
 "nbformat": 4,
 "nbformat_minor": 5
}
