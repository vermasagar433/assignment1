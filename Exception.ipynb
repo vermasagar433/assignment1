{
 "cells": [
  {
   "cell_type": "markdown",
   "id": "ab72205b-dbe0-4244-873e-f68f9911ab5c",
   "metadata": {},
   "source": [
    "Q1. What is an Exception in python? Write the difference between Exceptions and Syntax errors?"
   ]
  },
  {
   "cell_type": "markdown",
   "id": "e8651e0b-dd5c-4918-b525-8be87a31fedb",
   "metadata": {},
   "source": [
    "Exceptions are type of errors that abrupts the normal flow of the code.\n",
    "\n",
    "Difference between syntax errors and exceptions is that syntax errors are parser error. That means the code is not written properly. In case of exceptions, there is no error in the way code syntax is written. It's just that the python is not able to process the code due to some internal errors such as FileNotFoundError, ZerDivisionError."
   ]
  },
  {
   "cell_type": "markdown",
   "id": "0a64a495-c450-4021-864b-49819f0794ef",
   "metadata": {},
   "source": [
    "Q2. What happens when an exception is not handled? Explain with an example?"
   ]
  },
  {
   "cell_type": "markdown",
   "id": "b698e19b-3ba3-490e-b95d-424fe4f7db10",
   "metadata": {},
   "source": [
    "In that case, the following code after the exception will not be executed.\n"
   ]
  },
  {
   "cell_type": "code",
   "execution_count": 1,
   "id": "2edada72-f8bf-4bf7-b442-dc8f8678dc16",
   "metadata": {},
   "outputs": [
    {
     "ename": "FileNotFoundError",
     "evalue": "[Errno 2] No such file or directory: 'test.txt'",
     "output_type": "error",
     "traceback": [
      "\u001b[0;31m---------------------------------------------------------------------------\u001b[0m",
      "\u001b[0;31mFileNotFoundError\u001b[0m                         Traceback (most recent call last)",
      "Cell \u001b[0;32mIn[1], line 1\u001b[0m\n\u001b[0;32m----> 1\u001b[0m \u001b[38;5;28;01mwith\u001b[39;00m \u001b[38;5;28;43mopen\u001b[39;49m\u001b[43m(\u001b[49m\u001b[38;5;124;43m'\u001b[39;49m\u001b[38;5;124;43mtest.txt\u001b[39;49m\u001b[38;5;124;43m'\u001b[39;49m\u001b[43m,\u001b[49m\u001b[38;5;124;43m'\u001b[39;49m\u001b[38;5;124;43mr\u001b[39;49m\u001b[38;5;124;43m'\u001b[39;49m\u001b[43m)\u001b[49m \u001b[38;5;28;01mas\u001b[39;00m f:\n\u001b[1;32m      2\u001b[0m     f\u001b[38;5;241m.\u001b[39mread()\n\u001b[1;32m      3\u001b[0m \u001b[38;5;28mprint\u001b[39m(\u001b[38;5;124m\"\u001b[39m\u001b[38;5;124mFile is open\u001b[39m\u001b[38;5;124m\"\u001b[39m)\n",
      "File \u001b[0;32m/opt/conda/lib/python3.10/site-packages/IPython/core/interactiveshell.py:282\u001b[0m, in \u001b[0;36m_modified_open\u001b[0;34m(file, *args, **kwargs)\u001b[0m\n\u001b[1;32m    275\u001b[0m \u001b[38;5;28;01mif\u001b[39;00m file \u001b[38;5;129;01min\u001b[39;00m {\u001b[38;5;241m0\u001b[39m, \u001b[38;5;241m1\u001b[39m, \u001b[38;5;241m2\u001b[39m}:\n\u001b[1;32m    276\u001b[0m     \u001b[38;5;28;01mraise\u001b[39;00m \u001b[38;5;167;01mValueError\u001b[39;00m(\n\u001b[1;32m    277\u001b[0m         \u001b[38;5;124mf\u001b[39m\u001b[38;5;124m\"\u001b[39m\u001b[38;5;124mIPython won\u001b[39m\u001b[38;5;124m'\u001b[39m\u001b[38;5;124mt let you open fd=\u001b[39m\u001b[38;5;132;01m{\u001b[39;00mfile\u001b[38;5;132;01m}\u001b[39;00m\u001b[38;5;124m by default \u001b[39m\u001b[38;5;124m\"\u001b[39m\n\u001b[1;32m    278\u001b[0m         \u001b[38;5;124m\"\u001b[39m\u001b[38;5;124mas it is likely to crash IPython. If you know what you are doing, \u001b[39m\u001b[38;5;124m\"\u001b[39m\n\u001b[1;32m    279\u001b[0m         \u001b[38;5;124m\"\u001b[39m\u001b[38;5;124myou can use builtins\u001b[39m\u001b[38;5;124m'\u001b[39m\u001b[38;5;124m open.\u001b[39m\u001b[38;5;124m\"\u001b[39m\n\u001b[1;32m    280\u001b[0m     )\n\u001b[0;32m--> 282\u001b[0m \u001b[38;5;28;01mreturn\u001b[39;00m \u001b[43mio_open\u001b[49m\u001b[43m(\u001b[49m\u001b[43mfile\u001b[49m\u001b[43m,\u001b[49m\u001b[43m \u001b[49m\u001b[38;5;241;43m*\u001b[39;49m\u001b[43margs\u001b[49m\u001b[43m,\u001b[49m\u001b[43m \u001b[49m\u001b[38;5;241;43m*\u001b[39;49m\u001b[38;5;241;43m*\u001b[39;49m\u001b[43mkwargs\u001b[49m\u001b[43m)\u001b[49m\n",
      "\u001b[0;31mFileNotFoundError\u001b[0m: [Errno 2] No such file or directory: 'test.txt'"
     ]
    }
   ],
   "source": [
    "with open('test.txt','r') as f:\n",
    "    f.read()\n",
    "print(\"File is open\")\n",
    "#here the print statement is not exxecuted"
   ]
  },
  {
   "cell_type": "markdown",
   "id": "8ff4135f-bc58-44c8-8ad9-5ef9af50c613",
   "metadata": {},
   "source": [
    "Q3. Which Python statements are used to catch and handle exceptions? Explain with an example."
   ]
  },
  {
   "cell_type": "markdown",
   "id": "06c2b683-7070-457a-b205-d2273ac1183c",
   "metadata": {},
   "source": [
    "there are four statements for handling exceptions:\n",
    "try,except,else,finally"
   ]
  },
  {
   "cell_type": "code",
   "execution_count": 2,
   "id": "3028340c-c83c-4022-83f8-591949446c2c",
   "metadata": {},
   "outputs": [],
   "source": [
    "try:\n",
    "    f=open('new.txt','w')\n",
    "except FileExistsError as e:\n",
    "    print(\"File does not exist\")\n",
    "else:\n",
    "        f.write(\"new file\")\n",
    "finally:\n",
    "    f.close()"
   ]
  },
  {
   "cell_type": "markdown",
   "id": "7cb9f593-7c63-406a-9117-0b085e1e62bd",
   "metadata": {},
   "source": [
    "Q4. Explain with an example:#\n",
    "\n",
    "try and else\n",
    "\n",
    "finally \n",
    "\n",
    "raise"
   ]
  },
  {
   "cell_type": "markdown",
   "id": "86c51759-ca4a-4c6e-b9f7-6e76344fe733",
   "metadata": {},
   "source": [
    "try and else: try is to check if the code block is running successfully. If not it will try to catch exception using except block. If try block is run succcessfully,then else block will be executed.\n",
    "\n",
    "finally: this block will be executed no matter what. Generally used to turn off the database.\n",
    "\n",
    "raise: this is the keyword which calls the custom exception class message."
   ]
  },
  {
   "cell_type": "code",
   "execution_count": 3,
   "id": "c8a340a5-5f7c-4f60-bd08-8c6f890599b8",
   "metadata": {},
   "outputs": [],
   "source": [
    "try:\n",
    "    f=open('new.txt','w')\n",
    "except FileNotFoundError as e:\n",
    "    print(\"File does not exist\")\n",
    "else:\n",
    "        f.write(\"new file\")\n",
    "finally:\n",
    "    f.close()"
   ]
  },
  {
   "cell_type": "code",
   "execution_count": 5,
   "id": "17368449-7257-41d6-ad64-934432d95bfb",
   "metadata": {},
   "outputs": [
    {
     "name": "stdin",
     "output_type": "stream",
     "text": [
      " -9\n"
     ]
    },
    {
     "name": "stdout",
     "output_type": "stream",
     "text": [
      "Age cannot be negative\n"
     ]
    }
   ],
   "source": [
    "class validateage(Exception):\n",
    "    def __init__(self,msg):\n",
    "        self.age=msg\n",
    "def validage(age):\n",
    "        if age<0:\n",
    "            raise validateage(\"Age cannot be negative\")\n",
    "try:\n",
    "    age=int(input())\n",
    "    validage(age)\n",
    "except validateage as e:\n",
    "    print(e)   \n"
   ]
  },
  {
   "cell_type": "markdown",
   "id": "500e2017-ae03-4aef-8655-6339e11a8fe6",
   "metadata": {},
   "source": [
    "Q5. What are Custom Exceptions in python? Why do we need Custom Exceptions? Explain with an example.\n"
   ]
  },
  {
   "cell_type": "markdown",
   "id": "70383427-8d4d-432f-a63b-1c76ddbc5036",
   "metadata": {},
   "source": [
    "Custom exceptions are user defined exceptions that are not covered in base exception class. Custom Exceptions are used to catch exceptions which are logically not possible. For ex: if we take age, we know it will take int value but cannot be nagative. So to catch such cases and raise an exception msg we define custom exceptions.\n"
   ]
  },
  {
   "cell_type": "code",
   "execution_count": null,
   "id": "55052e63-e000-499b-9cd9-7746d64ac8db",
   "metadata": {},
   "outputs": [],
   "source": [
    "class validateage(Exception):\n",
    "    def __init__(self,msg):\n",
    "        self.age=msg\n",
    "def validage(age):\n",
    "        if age<0:\n",
    "            raise validateage(\"Age cannot be negative\")\n",
    "try:\n",
    "    age=int(input())\n",
    "    validage(age)\n",
    "except validateage as e:\n",
    "    print(e)   \n"
   ]
  },
  {
   "cell_type": "markdown",
   "id": "ab063707-d3ba-4c9c-9839-a5064d6bca07",
   "metadata": {},
   "source": [
    "Q6. Create a custom exception class. Use this class to handle an exception."
   ]
  },
  {
   "cell_type": "code",
   "execution_count": null,
   "id": "f46ccf49-e8ae-49fd-bc38-6aff9f0078dc",
   "metadata": {},
   "outputs": [],
   "source": [
    "class validateage(Exception):\n",
    "    def __init__(self,msg):\n",
    "        self.age=msg\n",
    "def validage(age):\n",
    "        if age<0:\n",
    "            raise validateage(\"Age cannot be negative\")\n",
    "try:\n",
    "    age=int(input())\n",
    "    validage(age)\n",
    "except validateage as e:\n",
    "    print(e)   \n"
   ]
  }
 ],
 "metadata": {
  "kernelspec": {
   "display_name": "Python 3 (ipykernel)",
   "language": "python",
   "name": "python3"
  },
  "language_info": {
   "codemirror_mode": {
    "name": "ipython",
    "version": 3
   },
   "file_extension": ".py",
   "mimetype": "text/x-python",
   "name": "python",
   "nbconvert_exporter": "python",
   "pygments_lexer": "ipython3",
   "version": "3.10.8"
  }
 },
 "nbformat": 4,
 "nbformat_minor": 5
}
